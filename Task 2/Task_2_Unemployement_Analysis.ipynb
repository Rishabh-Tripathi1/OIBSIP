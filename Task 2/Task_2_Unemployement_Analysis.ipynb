{
  "cells": [
    {
      "cell_type": "markdown",
      "metadata": {
        "id": "view-in-github",
        "colab_type": "text"
      },
      "source": [
        "<a href=\"https://colab.research.google.com/github/Rishabh-Tripathi1/OIBSIP/blob/main/Task%202/Task_2_Unemployement_Analysis.ipynb\" target=\"_parent\"><img src=\"https://colab.research.google.com/assets/colab-badge.svg\" alt=\"Open In Colab\"/></a>"
      ]
    },
    {
      "cell_type": "markdown",
      "id": "a92edac0-22e3-4460-a721-19321e484e6a",
      "metadata": {
        "tags": [],
        "id": "a92edac0-22e3-4460-a721-19321e484e6a"
      },
      "source": [
        "# ***Task 2: Unemploymentent Rate*** \n",
        "\n",
        "### ***Rishabh Tripathi***\n",
        "\n",
        "Unemployment is measured by the unemployment rate which is the number of people who are unemployed as a percentage of the total labour force. We have seen a sharp increase in the unemployment rate during Covid-19, so analyzing the unemployment rate can be a good data science project. \n",
        "\n",
        "\n",
        "**Dataset mounted from G-Drive**"
      ]
    },
    {
      "cell_type": "code",
      "execution_count": null,
      "id": "b3ae09c2-622f-44f4-81ae-484ac5125faf",
      "metadata": {
        "id": "b3ae09c2-622f-44f4-81ae-484ac5125faf"
      },
      "outputs": [],
      "source": [
        "import numpy as np\n",
        "import pandas as pd\n",
        "import matplotlib.pyplot as plt\n",
        "import seaborn as sns\n",
        "import plotly.express as px\n",
        "import plotly.graph_objects as go\n",
        "import plotly\n",
        "import warnings\n",
        "warnings.filterwarnings('ignore')"
      ]
    },
    {
      "cell_type": "code",
      "source": [
        "data = pd.read_csv(\"Unemployment_Rate_upto_11_2020.csv\")"
      ],
      "metadata": {
        "id": "WP26D_NXMH4o"
      },
      "id": "WP26D_NXMH4o",
      "execution_count": null,
      "outputs": []
    },
    {
      "cell_type": "code",
      "source": [
        "data.shape"
      ],
      "metadata": {
        "id": "KWBpzHh4MeqM"
      },
      "id": "KWBpzHh4MeqM",
      "execution_count": null,
      "outputs": []
    },
    {
      "cell_type": "code",
      "execution_count": null,
      "id": "e181619b-b7c6-436d-9f46-59e4cfa78865",
      "metadata": {
        "id": "e181619b-b7c6-436d-9f46-59e4cfa78865"
      },
      "outputs": [],
      "source": [
        "data.head()"
      ]
    },
    {
      "cell_type": "code",
      "execution_count": null,
      "id": "a9807ed7-6534-4e69-9339-07763b47c35f",
      "metadata": {
        "id": "a9807ed7-6534-4e69-9339-07763b47c35f"
      },
      "outputs": [],
      "source": [
        "data.describe()"
      ]
    },
    {
      "cell_type": "code",
      "execution_count": null,
      "id": "0e31c681-9f8b-41e5-84ea-bda1a57ce962",
      "metadata": {
        "id": "0e31c681-9f8b-41e5-84ea-bda1a57ce962"
      },
      "outputs": [],
      "source": [
        "print(\"Total number of regions considered : {}\".format(data['Region'].nunique()))"
      ]
    },
    {
      "cell_type": "code",
      "execution_count": null,
      "id": "20fbdc95-e111-4e33-9a03-ab84a24cc533",
      "metadata": {
        "id": "20fbdc95-e111-4e33-9a03-ab84a24cc533"
      },
      "outputs": [],
      "source": [
        "grpstate=data.groupby('Region')"
      ]
    },
    {
      "cell_type": "code",
      "execution_count": null,
      "id": "5dd94323-8b2c-41b5-b920-7f79280a4e37",
      "metadata": {
        "id": "5dd94323-8b2c-41b5-b920-7f79280a4e37"
      },
      "outputs": [],
      "source": [
        "grpstate.mean()"
      ]
    },
    {
      "cell_type": "code",
      "execution_count": null,
      "id": "34635e38-14bc-4819-a179-e952d1c09341",
      "metadata": {
        "id": "34635e38-14bc-4819-a179-e952d1c09341"
      },
      "outputs": [],
      "source": [
        "data[data['Region']==\"West Bengal\"][' Estimated Unemployment Rate (%)'].max()"
      ]
    },
    {
      "cell_type": "code",
      "execution_count": null,
      "id": "f469fc65-994e-490b-9cdb-99fe2fd8b972",
      "metadata": {
        "id": "f469fc65-994e-490b-9cdb-99fe2fd8b972"
      },
      "outputs": [],
      "source": [
        "val=data[' Estimated Employed'].max()\n",
        "data.loc[data[' Estimated Employed']==val , 'Region']"
      ]
    },
    {
      "cell_type": "code",
      "execution_count": null,
      "id": "9ae0eeb9-9156-4ef0-b1ec-b46976da3d74",
      "metadata": {
        "id": "9ae0eeb9-9156-4ef0-b1ec-b46976da3d74"
      },
      "outputs": [],
      "source": [
        "data['Region.1'].unique()"
      ]
    },
    {
      "cell_type": "code",
      "execution_count": null,
      "id": "8df49ab0-e23e-4069-b1c0-70010e2709db",
      "metadata": {
        "id": "8df49ab0-e23e-4069-b1c0-70010e2709db"
      },
      "outputs": [],
      "source": [
        "grpregn=data.groupby('Region.1')"
      ]
    },
    {
      "cell_type": "code",
      "execution_count": null,
      "id": "546d96a0-553e-493c-af07-211a5f557830",
      "metadata": {
        "id": "546d96a0-553e-493c-af07-211a5f557830"
      },
      "outputs": [],
      "source": [
        "grpregn.max()"
      ]
    },
    {
      "cell_type": "code",
      "execution_count": null,
      "id": "e5e523cd-d24d-4845-b098-efe1547ad31c",
      "metadata": {
        "id": "e5e523cd-d24d-4845-b098-efe1547ad31c"
      },
      "outputs": [],
      "source": [
        "grpregn.min()"
      ]
    },
    {
      "cell_type": "code",
      "execution_count": null,
      "id": "c1879248-5c41-464f-b1be-e5d2ac7d975c",
      "metadata": {
        "id": "c1879248-5c41-464f-b1be-e5d2ac7d975c"
      },
      "outputs": [],
      "source": [
        "values=data[' Estimated Unemployment Rate (%)']\n",
        "category=data['Region']"
      ]
    },
    {
      "cell_type": "code",
      "execution_count": null,
      "id": "5fc7251a-7fca-4868-8c05-3c1d82e4e270",
      "metadata": {
        "id": "5fc7251a-7fca-4868-8c05-3c1d82e4e270"
      },
      "outputs": [],
      "source": [
        "fig = go.Figure(data=[go.Pie(labels=category, values=values, hole=.3, title = 'Population Economically Active' )])\n",
        "fig.show()\n"
      ]
    },
    {
      "cell_type": "code",
      "execution_count": null,
      "id": "e340e56c-a5c8-47c6-9a06-c24d2de06b88",
      "metadata": {
        "id": "e340e56c-a5c8-47c6-9a06-c24d2de06b88"
      },
      "outputs": [],
      "source": [
        "import warnings\n",
        "warnings.filterwarnings('ignore')\n",
        "sns.barplot(x='Region.1' , y=' Estimated Unemployment Rate (%)' , data=data)"
      ]
    },
    {
      "cell_type": "code",
      "source": [
        "sns.barplot(x='Region.1' , y=' Estimated Labour Participation Rate (%)' , data=data)"
      ],
      "metadata": {
        "id": "3KrDylJyaUd8"
      },
      "id": "3KrDylJyaUd8",
      "execution_count": null,
      "outputs": []
    },
    {
      "cell_type": "code",
      "source": [
        "sns.countplot(x='Region.1' , data=data)"
      ],
      "metadata": {
        "id": "_kmnWUr1Z0Zp"
      },
      "id": "_kmnWUr1Z0Zp",
      "execution_count": null,
      "outputs": []
    }
  ],
  "metadata": {
    "kernelspec": {
      "display_name": "Python 3 (ipykernel)",
      "language": "python",
      "name": "python3"
    },
    "language_info": {
      "codemirror_mode": {
        "name": "ipython",
        "version": 3
      },
      "file_extension": ".py",
      "mimetype": "text/x-python",
      "name": "python",
      "nbconvert_exporter": "python",
      "pygments_lexer": "ipython3",
      "version": "3.11.2"
    },
    "colab": {
      "provenance": [],
      "include_colab_link": true
    }
  },
  "nbformat": 4,
  "nbformat_minor": 5
}