{
  "nbformat": 4,
  "nbformat_minor": 0,
  "metadata": {
    "colab": {
      "provenance": [],
      "mount_file_id": "1rOChGXs5mmopeQQM2nFI3OaD9v58gVSx",
      "authorship_tag": "ABX9TyNzaEwtEVoHRoZ/Q6sm3RSP",
      "include_colab_link": true
    },
    "kernelspec": {
      "name": "python3",
      "display_name": "Python 3"
    },
    "language_info": {
      "name": "python"
    }
  },
  "cells": [
    {
      "cell_type": "markdown",
      "metadata": {
        "id": "view-in-github",
        "colab_type": "text"
      },
      "source": [
        "<a href=\"https://colab.research.google.com/github/Rishabh-Tripathi1/OIBSIP/blob/main/Iris_Dataset.ipynb\" target=\"_parent\"><img src=\"https://colab.research.google.com/assets/colab-badge.svg\" alt=\"Open In Colab\"/></a>"
      ]
    },
    {
      "cell_type": "code",
      "execution_count": null,
      "metadata": {
        "id": "zTmdZ2hzsbvc"
      },
      "outputs": [],
      "source": [
        "import pandas as pd\n",
        "import numpy\n",
        "import sklearn"
      ]
    },
    {
      "cell_type": "code",
      "source": [
        "# Loading the Dataset\n",
        "\n",
        "data = pd.read_csv(\"/content/drive/MyDrive/Oasis/Task 1/Iris.csv\")"
      ],
      "metadata": {
        "id": "MNwiYsmuspW7"
      },
      "execution_count": null,
      "outputs": []
    },
    {
      "cell_type": "markdown",
      "source": [
        "# Exploring the Dataset"
      ],
      "metadata": {
        "id": "-S7boP4b3eBT"
      }
    },
    {
      "cell_type": "code",
      "source": [
        "data.shape"
      ],
      "metadata": {
        "id": "w2e_FLnTssxS"
      },
      "execution_count": null,
      "outputs": []
    },
    {
      "cell_type": "code",
      "source": [
        "data.head()"
      ],
      "metadata": {
        "id": "84rkLaxosu-f"
      },
      "execution_count": null,
      "outputs": []
    },
    {
      "cell_type": "code",
      "source": [
        "data.describe()"
      ],
      "metadata": {
        "id": "KOhalm0O5ZdV"
      },
      "execution_count": null,
      "outputs": []
    },
    {
      "cell_type": "code",
      "source": [
        "print(\"Largest Sepal Length: \",data['SepalLengthCm'].max())\n",
        "print(\"Largest Sepal Width: \",data['SepalWidthCm'].max())\n",
        "print(\"Largest Petal Length: \",data['PetalLengthCm'].max())\n",
        "print(\"Largest Petal Width: \",data['PetalWidthCm'].max())"
      ],
      "metadata": {
        "id": "dgM2ttNs1JQ6"
      },
      "execution_count": null,
      "outputs": []
    },
    {
      "cell_type": "markdown",
      "source": [
        "# Visualizing"
      ],
      "metadata": {
        "id": "d7CRiJED3jQu"
      }
    },
    {
      "cell_type": "code",
      "source": [
        "import seaborn as sns\n",
        "\n",
        "sns.histplot(data=data,x=\"SepalLengthCm\", hue='Species')"
      ],
      "metadata": {
        "id": "tHe5s5L86zWq"
      },
      "execution_count": null,
      "outputs": []
    },
    {
      "cell_type": "code",
      "source": [
        "sns.scatterplot(data=data, x=\"PetalLengthCm\", y=\"SepalLengthCm\", hue=\"Species\")"
      ],
      "metadata": {
        "id": "z3dTUp_JuFb9"
      },
      "execution_count": null,
      "outputs": []
    },
    {
      "cell_type": "code",
      "source": [
        "sns.boxplot(data=data, x = 'PetalWidthCm', y = 'SepalWidthCm',hue=\"Species\", dodge=False)"
      ],
      "metadata": {
        "id": "jmjON84iu8ql"
      },
      "execution_count": null,
      "outputs": []
    },
    {
      "cell_type": "markdown",
      "source": [
        "# Training the Model"
      ],
      "metadata": {
        "id": "899S-A_X3u70"
      }
    },
    {
      "cell_type": "code",
      "source": [
        "x = data.drop(['Id','Species'], axis = 1)"
      ],
      "metadata": {
        "id": "J5p3VPjss1ET"
      },
      "execution_count": null,
      "outputs": []
    },
    {
      "cell_type": "code",
      "source": [
        "y = data['Species']"
      ],
      "metadata": {
        "id": "ktemtZTEtCOH"
      },
      "execution_count": null,
      "outputs": []
    },
    {
      "cell_type": "code",
      "source": [
        "from sklearn.model_selection import train_test_split\n",
        "\n",
        "\n",
        "x_train, x_test, y_train, y_test = train_test_split(x, y, test_size = 0.2, random_state = 1)"
      ],
      "metadata": {
        "id": "IsMsoSXJtHjJ"
      },
      "execution_count": null,
      "outputs": []
    },
    {
      "cell_type": "code",
      "source": [
        "from sklearn.ensemble import RandomForestClassifier\n",
        "\n",
        "rdm = RandomForestClassifier()\n",
        "\n",
        "rdm.fit(x_train, y_train)"
      ],
      "metadata": {
        "id": "9_4PpJh8tMAO"
      },
      "execution_count": null,
      "outputs": []
    },
    {
      "cell_type": "code",
      "source": [
        "y_pred = rdm.predict(x_test)"
      ],
      "metadata": {
        "id": "wZ45J-qettFf"
      },
      "execution_count": null,
      "outputs": []
    },
    {
      "cell_type": "markdown",
      "source": [
        "# Model Accuracy"
      ],
      "metadata": {
        "id": "O79DQ4tA4a0g"
      }
    },
    {
      "cell_type": "code",
      "source": [
        "from sklearn.metrics import accuracy_score, confusion_matrix\n",
        "\n",
        "print(\"Confusion Matrix: \", confusion_matrix(y_test, y_pred))\n",
        "\n",
        "print(\"Accuracy Score: \", accuracy_score(y_pred, y_test))"
      ],
      "metadata": {
        "id": "vUl07Tqkt41Y"
      },
      "execution_count": null,
      "outputs": []
    },
    {
      "cell_type": "code",
      "source": [],
      "metadata": {
        "id": "KagXKYVht8p_"
      },
      "execution_count": null,
      "outputs": []
    }
  ]
}