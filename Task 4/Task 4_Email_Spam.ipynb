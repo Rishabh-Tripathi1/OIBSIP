{
  "nbformat": 4,
  "nbformat_minor": 0,
  "metadata": {
    "colab": {
      "provenance": [],
      "authorship_tag": "ABX9TyOmAyj6M8fyF75dPLBYZgPr",
      "include_colab_link": true
    },
    "kernelspec": {
      "name": "python3",
      "display_name": "Python 3"
    },
    "language_info": {
      "name": "python"
    }
  },
  "cells": [
    {
      "cell_type": "markdown",
      "metadata": {
        "id": "view-in-github",
        "colab_type": "text"
      },
      "source": [
        "<a href=\"https://colab.research.google.com/github/Rishabh-Tripathi1/OIBSIP/blob/main/Task%204/Task%204_Email_Spam.ipynb\" target=\"_parent\"><img src=\"https://colab.research.google.com/assets/colab-badge.svg\" alt=\"Open In Colab\"/></a>"
      ]
    },
    {
      "cell_type": "markdown",
      "source": [
        "# ***Task 4: EMAIL Spam Detection*** \n",
        "\n",
        "### ***Rishabh Tripathi***\n",
        "\n",
        "\n",
        "We’ve all been the recipient of spam emails before. Spam mail, or junk mail, is a type of email that is sent to a massive number of users at one time, frequently containing cryptic messages, scams, or most dangerously, phishing content. In this Project, use Python to build an email spam detector. Then, use machine learning to train the spam detector to recognize and classify emails into spam and non-spam.\n",
        "\n",
        "**Dataset mounted from G-Drive**"
      ],
      "metadata": {
        "id": "e_xMF-gkva4R"
      }
    },
    {
      "cell_type": "code",
      "execution_count": null,
      "metadata": {
        "id": "JzC0yXz1qHCQ"
      },
      "outputs": [],
      "source": [
        "import pandas as pd"
      ]
    },
    {
      "cell_type": "code",
      "source": [
        "path = \"/content/spam.csv\"\n",
        "data = pd.read_csv(path, on_bad_lines=\"skip\", encoding=\"ISO-8859-1\")\n",
        "data = data.drop([\"Unnamed: 2\", \"Unnamed: 3\", \"Unnamed: 4\"], axis=1)\n",
        "data.columns = [\"label\", \"email\"]"
      ],
      "metadata": {
        "id": "C3hYHZ80qSDt"
      },
      "execution_count": null,
      "outputs": []
    },
    {
      "cell_type": "code",
      "source": [
        "data.head()"
      ],
      "metadata": {
        "id": "EVPNkchkqSc9"
      },
      "execution_count": null,
      "outputs": []
    },
    {
      "cell_type": "code",
      "source": [
        "data.describe()"
      ],
      "metadata": {
        "id": "MgKYr8-CsFFl"
      },
      "execution_count": null,
      "outputs": []
    },
    {
      "cell_type": "code",
      "source": [
        "import re\n",
        "corpus = []\n",
        "\n",
        "for i in range(len(data)):\n",
        "    review = re.sub(\"[^a-zA-Z]\", \" \", data[\"email\"][i])\n",
        "    review = review.lower()\n",
        "    review = review.split()\n",
        "    review = ' '.join(review)\n",
        "    corpus.append(review)"
      ],
      "metadata": {
        "id": "_5LS53uAqrL-"
      },
      "execution_count": null,
      "outputs": []
    },
    {
      "cell_type": "code",
      "source": [
        "from sklearn.feature_extraction.text import CountVectorizer\n",
        "from sklearn.model_selection import train_test_split\n",
        "\n",
        "cv = CountVectorizer(max_features=2500)\n",
        "X = cv.fit_transform(corpus).toarray()\n",
        "y = pd.get_dummies(data[\"label\"], drop_first=True)\n",
        "\n",
        "X_train, X_test, y_train, y_test = train_test_split(X, y.values.ravel(), test_size=0.20, random_state=0)"
      ],
      "metadata": {
        "id": "GY2jUq62q1ze"
      },
      "execution_count": null,
      "outputs": []
    },
    {
      "cell_type": "code",
      "source": [
        "# from sklearn.linear_model import LogisticRegression\n",
        "from sklearn.ensemble import RandomForestClassifier\n",
        "clf_lr = RandomForestClassifier()\n",
        "clf_lr.fit(X_train, y_train)\n",
        "pred_lr = clf_lr.predict(X_test)"
      ],
      "metadata": {
        "id": "aMmL8preq-c-"
      },
      "execution_count": null,
      "outputs": []
    },
    {
      "cell_type": "code",
      "source": [
        "from sklearn.metrics import classification_report\n",
        "\n",
        "print(classification_report(y_test, pred_lr))"
      ],
      "metadata": {
        "id": "CCNFVO1SrBt-"
      },
      "execution_count": null,
      "outputs": []
    },
    {
      "cell_type": "code",
      "source": [
        "input_mail = [\"FreeMsg Hey there darling it's been 3 week's now and no word back! I'd like some fun you up for it still? Tb ok! XxX std chgs to send, �1.50 to rcv\"]\n",
        "\n",
        "#convert text to feature \n",
        "input_mail_features = cv.transform(input_mail)\n",
        "\n",
        "#making predictions\n",
        "prediction = clf_lr.predict(input_mail_features)\n",
        "\n",
        "#Spam email means 0, ham email means 1\n",
        "\n",
        "print(prediction)\n",
        "\n",
        "if (prediction[0] == 1):\n",
        "              print(\"IT IS A SPAM MAIL\")\n",
        "else :\n",
        "              print(\"IT IS NOT A SPAM MAIL\")"
      ],
      "metadata": {
        "id": "3ZwpAgjauKKx"
      },
      "execution_count": null,
      "outputs": []
    }
  ]
}