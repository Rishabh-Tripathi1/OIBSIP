{
  "nbformat": 4,
  "nbformat_minor": 0,
  "metadata": {
    "colab": {
      "provenance": [],
      "mount_file_id": "1AKMZcE08YS5Vsz_YRsRlztsXTt7umyGg",
      "authorship_tag": "ABX9TyMgbTWMHQVUrdmTx21hsrko",
      "include_colab_link": true
    },
    "kernelspec": {
      "name": "python3",
      "display_name": "Python 3"
    },
    "language_info": {
      "name": "python"
    }
  },
  "cells": [
    {
      "cell_type": "markdown",
      "metadata": {
        "id": "view-in-github",
        "colab_type": "text"
      },
      "source": [
        "<a href=\"https://colab.research.google.com/github/Rishabh-Tripathi1/OIBSIP/blob/main/Task%203/Task%203_Car_Price.ipynb\" target=\"_parent\"><img src=\"https://colab.research.google.com/assets/colab-badge.svg\" alt=\"Open In Colab\"/></a>"
      ]
    },
    {
      "cell_type": "code",
      "execution_count": null,
      "metadata": {
        "id": "p4AV755CcYEY"
      },
      "outputs": [],
      "source": [
        "import pandas as pd\n",
        "import seaborn as sns\n",
        "from warnings import filterwarnings\n",
        "import numpy as np\n",
        "import matplotlib.pyplot as plt\n",
        "filterwarnings(action='ignore')"
      ]
    },
    {
      "cell_type": "code",
      "source": [
        "data = pd.read_csv('/content/CarPrice.csv')"
      ],
      "metadata": {
        "id": "uZrLvUa9cdLN"
      },
      "execution_count": null,
      "outputs": []
    },
    {
      "cell_type": "code",
      "source": [
        "data.columns"
      ],
      "metadata": {
        "id": "Je9oU4rechLP"
      },
      "execution_count": null,
      "outputs": []
    },
    {
      "cell_type": "code",
      "source": [
        "x = data.drop(['car_ID','price','CarName','fueltype',\t'aspiration'\t,'doornumber','symboling','fuelsystem','cylindernumber','enginetype','carbody',\t'drivewheel',\t'enginelocation'], axis = 1)\n",
        "y = data['price']"
      ],
      "metadata": {
        "id": "9EZYya-0lLXd"
      },
      "execution_count": null,
      "outputs": []
    },
    {
      "cell_type": "code",
      "source": [
        "data.describe()"
      ],
      "metadata": {
        "id": "W7B4WYAAd7_F"
      },
      "execution_count": null,
      "outputs": []
    },
    {
      "cell_type": "code",
      "source": [
        "x.head()"
      ],
      "metadata": {
        "id": "Y3kqzkaIpD0t"
      },
      "execution_count": null,
      "outputs": []
    },
    {
      "cell_type": "code",
      "source": [
        "len(data.CarName.unique())"
      ],
      "metadata": {
        "id": "AV3kyYYoeZS2"
      },
      "execution_count": null,
      "outputs": []
    },
    {
      "cell_type": "code",
      "source": [
        "plt.figure(figsize=(15,10))\n",
        "sns.distplot(data.price)\n",
        "plt.show()"
      ],
      "metadata": {
        "id": "al4_rEEoegQj"
      },
      "execution_count": null,
      "outputs": []
    },
    {
      "cell_type": "code",
      "source": [
        "plt.figure(figsize=(20, 15))\n",
        "correlations = x.corr()\n",
        "sns.heatmap(correlations, cmap=\"coolwarm\", annot=True)\n",
        "plt.show()"
      ],
      "metadata": {
        "id": "llXtXaqhr65Z"
      },
      "execution_count": null,
      "outputs": []
    },
    {
      "cell_type": "code",
      "source": [
        "max = data[data['price'] == data['price'].max()]\n",
        "print(\"Costlist Car in the Market: \", max['CarName'])"
      ],
      "metadata": {
        "id": "gliNH2NkoAs9"
      },
      "execution_count": null,
      "outputs": []
    },
    {
      "cell_type": "code",
      "source": [
        "from sklearn.model_selection import train_test_split"
      ],
      "metadata": {
        "id": "DkY1hmW5fFv9"
      },
      "execution_count": null,
      "outputs": []
    },
    {
      "cell_type": "code",
      "source": [
        "X_train , X_test , Y_train , Y_test = train_test_split(x  , y , test_size=0.3 , random_state=101)"
      ],
      "metadata": {
        "id": "ykAp4KkykWey"
      },
      "execution_count": null,
      "outputs": []
    },
    {
      "cell_type": "code",
      "source": [
        "from sklearn.ensemble import RandomForestRegressor\n",
        "model=RandomForestRegressor()\n",
        "model.fit(X_train , Y_train)\n",
        "y_pred=model.predict(X_test)"
      ],
      "metadata": {
        "id": "nb5qQYCkoJdj"
      },
      "execution_count": null,
      "outputs": []
    },
    {
      "cell_type": "code",
      "source": [
        "from sklearn.metrics import mean_squared_error , mean_absolute_error , r2_score\n",
        "r2=r2_score(Y_test  , y_pred)\n",
        "\n",
        "print(\"r2 score : {}\".format(r2))"
      ],
      "metadata": {
        "id": "-Tx3VgnsoWB8"
      },
      "execution_count": null,
      "outputs": []
    },
    {
      "cell_type": "code",
      "source": [
        "wheel=float(input(\"Enter the wheel : \"))\n",
        "carlen=float(input(\"Enter the carlen : \"))\n",
        "carwdt=float(input(\"Enter the carwdt : \"))\t\n",
        "carht=float(input(\"Enter the carht : \"))\n",
        "curbwt=float(input(\"Enter the carweight : \"))\t\n",
        "egsize=float(input(\"Enter the egsize : \"))\t\n",
        "boreratio=float(input(\"Enter the boreratio : \"))\t\n",
        "stroke=float(input(\"Enter the stroke : \"))\t\n",
        "compratio=float(input(\"Enter the compratio : \"))\t\n",
        "hp=float(input(\"Enter the hp : \"))\t\n",
        "peakrpm=float(input(\"Enter the peakrpm : \"))\n",
        "citympg=float(input(\"Enter the citympg : \"))\n",
        "highwaympg=float(input(\"Enter the highwaympg : \"))\n",
        "\n",
        "s=[wheel , carlen , carwdt , carht ,curbwt ,egsize,boreratio, stroke , compratio , hp ,peakrpm ,citympg ,highwaympg ]\n",
        "a=np.array(s)\n",
        "a=a.reshape(1 , -1)\n",
        "\n",
        "result=model.predict(a)\n",
        "print(\"Price of the car is : {}\".format(result))"
      ],
      "metadata": {
        "id": "U6_F2UxJp6s2"
      },
      "execution_count": null,
      "outputs": []
    }
  ]
}